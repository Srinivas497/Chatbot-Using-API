{
  "nbformat": 4,
  "nbformat_minor": 0,
  "metadata": {
    "colab": {
      "provenance": []
    },
    "kernelspec": {
      "name": "python3",
      "display_name": "Python 3"
    },
    "language_info": {
      "name": "python"
    }
  },
  "cells": [
    {
      "cell_type": "code",
      "execution_count": 1,
      "metadata": {
        "id": "qzFhHgFg3YQH"
      },
      "outputs": [],
      "source": [
        "import requests\n",
        "import json\n"
      ]
    },
    {
      "cell_type": "code",
      "source": [
        "api_key=\"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\"\n",
        "\n"
      ],
      "metadata": {
        "id": "P2ZQdD1B3ea9"
      },
      "execution_count": 2,
      "outputs": []
    },
    {
      "cell_type": "code",
      "source": [
        "url = \"https://openrouter.ai/api/v1/chat/completions\"\n",
        "headers = {\n",
        "    \"Authorization\": f\"Bearer {api_key}\",\n",
        "    \"Content-Type\": \"application/json\",\n",
        "    \"HTTP-Referer\": \"http://localhost\",  # Optional\n",
        "    \"X-Title\": \"MyDeepSeekChatbot\",       # Optional\n",
        "}"
      ],
      "metadata": {
        "id": "CgjmMTUc3pOa"
      },
      "execution_count": 3,
      "outputs": []
    },
    {
      "cell_type": "code",
      "source": [
        "def ask_question(question):\n",
        "    payload = {\n",
        "        \"model\": \"deepseek/deepseek-r1-zero:free\",\n",
        "        \"messages\": [\n",
        "            {\"role\": \"user\", \"content\": question}\n",
        "        ]\n",
        "    }\n",
        "\n",
        "    response = requests.post(url, headers=headers, data=json.dumps(payload))\n",
        "\n",
        "    if response.status_code == 200:\n",
        "        result = response.json()\n",
        "        answer = result[\"choices\"][0][\"message\"][\"content\"]\n",
        "        return answer\n",
        "    else:\n",
        "        return f\"Error {response.status_code}: {response.text}\"\n",
        "\n"
      ],
      "metadata": {
        "id": "pIFLiqAB3qha"
      },
      "execution_count": 4,
      "outputs": []
    },
    {
      "cell_type": "code",
      "source": [
        "while True:\n",
        "  question = input(\"Ask me anything: \")\n",
        "  answer = ask_question(question)\n",
        "  print(\"\\nBot:\", answer)"
      ],
      "metadata": {
        "colab": {
          "base_uri": "https://localhost:8080/"
        },
        "id": "KeqMdhFV3r9c",
        "outputId": "0d9ee130-d5e5-4f99-f2ff-ee124c198746"
      },
      "execution_count": null,
      "outputs": [
        {
          "output_type": "stream",
          "name": "stdout",
          "text": [
            "Ask me anything: hi\n",
            "\n",
            "Bot: \\boxed{e^{-\\frac{\\pi}{2}}}\n",
            "Ask me anything:  what is an ai\n",
            "\n",
            "Bot: \\boxed{AI (Artificial Intelligence) is the simulation of human intelligence processed by machines, particularly computer systems, which includes learning (the acquisition of information and rules for using the information), reasoning (using rules to reach approximate or definite conclusions), and self-correction. It encompasses a broad range of technologies that enable machines to perform tasks that typically require human intelligence, such as visual perception, speech recognition, decision-making, and translation between languages.}\n",
            "Ask me anything:  what is captial of africa\n",
            "\n",
            "Bot: \\boxed{There is no single capital of Africa because Africa is a continent composed of many countries, each with its own capital city. However, the African Union, which is an organization of African nations, has its headquarters in Addis Ababa, Ethiopia.}\n",
            "Ask me anything:  Where is guntur located\n",
            "\n",
            "Bot: \\boxed{\"Guntur is located in the state of Andhra Pradesh, India.\"}\n",
            "Ask me anything: capital of bukina faso\n",
            "\n",
            "Bot: \\boxed{Ouagadougou}\n"
          ]
        }
      ]
    },
    {
      "cell_type": "code",
      "source": [],
      "metadata": {
        "id": "CPk2NbvE3tfC"
      },
      "execution_count": null,
      "outputs": []
    }
  ]
}